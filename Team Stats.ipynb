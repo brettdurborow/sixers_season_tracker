{
 "cells": [
  {
   "cell_type": "code",
   "execution_count": 1,
   "metadata": {},
   "outputs": [],
   "source": [
    "#pip install basketball_reference_scraper\n",
    "#pip install unidecode"
   ]
  },
  {
   "cell_type": "code",
   "execution_count": 2,
   "metadata": {},
   "outputs": [],
   "source": [
    "import pandas as pd\n",
    "from basketball_reference_scraper.teams import get_roster, get_team_stats, get_opp_stats, get_roster_stats, get_team_misc\n",
    "from basketball_reference_scraper.seasons import get_schedule, get_standings"
   ]
  },
  {
   "cell_type": "code",
   "execution_count": 3,
   "metadata": {},
   "outputs": [],
   "source": [
    "team_key = 'PHI'\n",
    "team_name = '76ers'\n",
    "year = 2021"
   ]
  },
  {
   "cell_type": "code",
   "execution_count": 4,
   "metadata": {},
   "outputs": [],
   "source": [
    "roster = get_roster(team_key, year)"
   ]
  },
  {
   "cell_type": "code",
   "execution_count": 5,
   "metadata": {},
   "outputs": [],
   "source": [
    "team_stats_g = get_team_stats(team_key, year, data_format='PER_GAME')\n",
    "team_stats_t = get_team_stats(team_key, year, data_format='TOTAL')"
   ]
  },
  {
   "cell_type": "code",
   "execution_count": 6,
   "metadata": {},
   "outputs": [],
   "source": [
    "opp_stats_g = get_opp_stats(team_key, year, data_format='PER_GAME')\n",
    "opp_stats_t = get_opp_stats(team_key, year, data_format='TOTAL')"
   ]
  },
  {
   "cell_type": "code",
   "execution_count": 7,
   "metadata": {},
   "outputs": [],
   "source": [
    "roster_stats_g = get_roster_stats(team_key, year, data_format='PER_GAME', playoffs=False)\n",
    "roster_stats_t = get_roster_stats(team_key, year, data_format='TOTALS', playoffs=False)\n",
    "roster_stats_m = get_roster_stats(team_key, year, data_format='PER_MINUTE', playoffs=False)\n",
    "roster_stats_p = get_roster_stats(team_key, year, data_format='PER_POSS', playoffs=False)\n",
    "roster_stats_a = get_roster_stats(team_key, year, data_format='ADVANCED', playoffs=False)"
   ]
  },
  {
   "cell_type": "code",
   "execution_count": 8,
   "metadata": {},
   "outputs": [],
   "source": [
    "team_misc = get_team_misc(team_key, year)"
   ]
  },
  {
   "cell_type": "code",
   "execution_count": 9,
   "metadata": {},
   "outputs": [],
   "source": [
    "schedule = get_schedule(year)\n",
    "schedule = schedule[schedule['VISITOR'].str.contains(team_name) | schedule['HOME'].str.contains(team_name)].reset_index(drop=True)"
   ]
  },
  {
   "cell_type": "code",
   "execution_count": 10,
   "metadata": {},
   "outputs": [],
   "source": [
    "standings = get_standings()\n",
    "standings_east = standings['EASTERN_CONF']\n",
    "standings_west = standings['WESTERN_CONF']\n",
    "standings = pd.concat([standings_east, standings_west], keys=['East', 'West']).reset_index().drop('level_1',axis=1).rename(columns={'level_0':'Conference'})\n"
   ]
  },
  {
   "cell_type": "code",
   "execution_count": 12,
   "metadata": {},
   "outputs": [
    {
     "name": "stderr",
     "output_type": "stream",
     "text": [
      "<ipython-input-12-2ba15ffe05c5>:11: FutureWarning: The signature of `Series.to_csv` was aligned to that of `DataFrame.to_csv`, and argument 'header' will change its default value from False to True: please pass an explicit value to suppress this warning.\n",
      "  df.to_csv(filename)\n"
     ]
    }
   ],
   "source": [
    "# update data files!\n",
    "\n",
    "# create list of dfs\n",
    "dfs = {'roster':roster, 'team_stats_g':team_stats_g, 'opp_stats_g':opp_stats_g, 'roster_stats_g':roster_stats_g, 'roster_stats_a':roster_stats_a, 'team_misc':team_misc, 'schedule':schedule, 'standings':standings}\n",
    "\n",
    "for key, df in dfs.items():\n",
    "    filename = 'data/' + key + '.csv'\n",
    "    if isinstance(df, pd.DataFrame):\n",
    "        df.to_csv(filename, index=False)\n",
    "    else:\n",
    "        df.to_csv(filename)"
   ]
  },
  {
   "cell_type": "code",
   "execution_count": null,
   "metadata": {},
   "outputs": [],
   "source": []
  }
 ],
 "metadata": {
  "kernelspec": {
   "display_name": "Python 3",
   "language": "python",
   "name": "python3"
  },
  "language_info": {
   "codemirror_mode": {
    "name": "ipython",
    "version": 3
   },
   "file_extension": ".py",
   "mimetype": "text/x-python",
   "name": "python",
   "nbconvert_exporter": "python",
   "pygments_lexer": "ipython3",
   "version": "3.8.3"
  }
 },
 "nbformat": 4,
 "nbformat_minor": 4
}
